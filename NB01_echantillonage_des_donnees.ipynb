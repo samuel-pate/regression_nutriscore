{
 "cells": [
  {
   "cell_type": "markdown",
   "metadata": {},
   "source": [
    "Ce projet est basé sur les données Open Food Facts disponibles à [cette adresse](https://world.openfoodfacts.org/data)."
   ]
  },
  {
   "cell_type": "code",
   "execution_count": 1,
   "metadata": {},
   "outputs": [
    {
     "name": "stdout",
     "output_type": "stream",
     "text": [
      "1.1.3\n",
      "1.19.4\n"
     ]
    }
   ],
   "source": [
    "# importation des librairies et vérification des versions\n",
    "\n",
    "import pandas as pd\n",
    "import numpy as np\n",
    "\n",
    "print(pd.__version__) # 1.1.3\n",
    "print(np.__version__) # 1.19.4"
   ]
  },
  {
   "cell_type": "code",
   "execution_count": 2,
   "metadata": {},
   "outputs": [
    {
     "data": {
      "text/plain": [
       "(1424201, 181)"
      ]
     },
     "execution_count": 2,
     "metadata": {},
     "output_type": "execute_result"
    }
   ],
   "source": [
    "# importation des données et taille du data set\n",
    "\n",
    "raw_data = pd.read_csv(\"en.openfoodfacts.org.products.csv\", \n",
    "                       sep = \"\\t\", \n",
    "                       low_memory=False, \n",
    "                       parse_dates = [\"created_datetime\", \"last_modified_datetime\"]\n",
    "                       )\n",
    "\n",
    "raw_data.shape"
   ]
  },
  {
   "cell_type": "markdown",
   "metadata": {},
   "source": [
    "On constate que le nombre d'enregistrements est très important (il ne fait que grandir), on en extrait donc un échantillon."
   ]
  },
  {
   "cell_type": "code",
   "execution_count": 3,
   "metadata": {},
   "outputs": [
    {
     "data": {
      "text/plain": [
       "(28484, 181)"
      ]
     },
     "execution_count": 3,
     "metadata": {},
     "output_type": "execute_result"
    }
   ],
   "source": [
    "# échantillonnage\n",
    "\n",
    "data_size = raw_data.shape[0]\n",
    "sample = np.random.randint(data_size, size=int(data_size*0.02) )\n",
    "sampled_data = raw_data.iloc[sample,:]\n",
    "\n",
    "sampled_data.shape"
   ]
  },
  {
   "cell_type": "code",
   "execution_count": 4,
   "metadata": {},
   "outputs": [],
   "source": [
    "# enregistrement de l'échantillon\n",
    "\n",
    "sampled_data.to_csv(\"sample.csv\", index=False)"
   ]
  },
  {
   "cell_type": "code",
   "execution_count": null,
   "metadata": {},
   "outputs": [],
   "source": []
  }
 ],
 "metadata": {
  "kernelspec": {
   "display_name": "Python 3",
   "language": "python",
   "name": "python3"
  },
  "language_info": {
   "codemirror_mode": {
    "name": "ipython",
    "version": 3
   },
   "file_extension": ".py",
   "mimetype": "text/x-python",
   "name": "python",
   "nbconvert_exporter": "python",
   "pygments_lexer": "ipython3",
   "version": "3.8.5"
  }
 },
 "nbformat": 4,
 "nbformat_minor": 4
}
